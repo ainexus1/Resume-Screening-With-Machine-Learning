{
 "cells": [
  {
   "cell_type": "markdown",
   "id": "c5a095ce-aea5-49d7-8c4f-75b4e675ff66",
   "metadata": {},
   "source": [
    "## Resume Screening with Python"
   ]
  },
  {
   "cell_type": "code",
   "execution_count": null,
   "id": "1cdc5886-207f-4dab-b7b2-a0fa86f51019",
   "metadata": {},
   "outputs": [],
   "source": [
    "import numpy as np\n",
    "import pandas as pd\n",
    "import matplotlib.pyplot as plt\n",
    "import seaborn as sns\n",
    "import warnings\n",
    "import re\n",
    "warnings.filterwarnings('ignore')\n",
    "from sklearn.naive_bayes import MultinomialNB\n",
    "from sklearn.multiclass import OneVsRestClassifier\n",
    "from sklearn import metrics\n",
    "from sklearn.metrics import accuracy_score\n",
    "from pandas.plotting import scatter_matrix\n",
    "from sklearn.neighbors import KNeighborsClassifier\n",
    "from sklearn import metrics"
   ]
  },
  {
   "cell_type": "code",
   "execution_count": null,
   "id": "7d9fb8dd-3dae-4fb2-b94e-027d98e32fa7",
   "metadata": {},
   "outputs": [],
   "source": [
    "resumeDataset = pd.read_csv(\"UpdatedResumeDataSet.csv\")\n",
    "resumeDataset['cleaned_resume'] = ''\n",
    "resumeDataset.head(10)"
   ]
  },
  {
   "cell_type": "code",
   "execution_count": null,
   "id": "44d44a20-0aa7-4324-8859-26108aa9e736",
   "metadata": {},
   "outputs": [],
   "source": [
    "print(\"Categories of the resume - \")\n",
    "print(resumeDataset['Category'].unique())"
   ]
  },
  {
   "cell_type": "code",
   "execution_count": null,
   "id": "43e6dace-9c61-483f-b32f-65e53df56793",
   "metadata": {},
   "outputs": [],
   "source": [
    "print(\"Categories of resume and the number of records belongs to - \")\n",
    "print(resumeDataset['Category'].value_counts())"
   ]
  },
  {
   "cell_type": "markdown",
   "id": "9aab1673-4982-42a4-b191-78dae4e83386",
   "metadata": {},
   "source": [
    "## Visualize the number of Categories in the Dataset"
   ]
  },
  {
   "cell_type": "code",
   "execution_count": null,
   "id": "c3401508-1420-423d-b357-24f8e47b66eb",
   "metadata": {},
   "outputs": [],
   "source": [
    "plt.figure(figsize=(15, 35))\n",
    "plt.xticks(rotation=90)\n",
    "sns.countplot(y=\"Category\", data=resumeDataset)"
   ]
  },
  {
   "cell_type": "markdown",
   "id": "ae11f594-cdca-41da-9bd9-041b7b2d8a27",
   "metadata": {},
   "source": [
    "## Visualize the distribution of the dataset"
   ]
  },
  {
   "cell_type": "code",
   "execution_count": null,
   "id": "0c98bc0f-c870-49c1-8317-6d8399441b1f",
   "metadata": {},
   "outputs": [],
   "source": [
    "from matplotlib.gridspec import GridSpec\n",
    "targetCounts = resumeDataset['Category'].value_counts()\n",
    "targetLabels = resumeDataset['Category'].unique()\n",
    "\n",
    "plt.figure(1, figsize=(25, 25))\n",
    "the_grid = GridSpec(2, 2)\n",
    "\n",
    "cmap = plt.get_cmap('coolwarm')\n",
    "colors = cmap(np.linspace(0, 1, 3))\n",
    "\n",
    "plt.subplot(the_grid[0, 1], aspect=1, title='CATEGORY DISTRIBUTION')\n",
    "source_pie = plt.pie(targetCounts, labels=targetLabels, autopct='%1.1f%%', shadow=True, colors=colors)\n",
    "plt.show()"
   ]
  },
  {
   "cell_type": "code",
   "execution_count": null,
   "id": "12bc7dd8-43f8-458a-9e9c-26f66b913652",
   "metadata": {},
   "outputs": [],
   "source": [
    "import re\n",
    "import nltk\n",
    "import string\n",
    "import matplotlib.pyplot as plt\n",
    "from nltk.corpus import stopwords\n",
    "from wordcloud import WordCloud\n",
    "from nltk.tokenize import word_tokenize\n",
    "from nltk.probability import FreqDist\n",
    "\n",
    "nltk.download('stopwords')\n",
    "\n",
    "def cleanResume(resumeText):\n",
    "    resumeText = re.sub('http\\S+\\s*', ' ', resumeText)\n",
    "    resumeText = re.sub('RT|cc', ' ', resumeText)\n",
    "    resumeText = re.sub('#\\S+', ' ', resumeText)\n",
    "    resumeText = re.sub('@\\S+', ' ', resumeText)\n",
    "    resumeText = re.sub('[%s]' % re.escape(\"\"\"!\"\"#@&'()*+,-./;:<=>?@^_{}|~\"\"\"), ' ', resumeText)\n",
    "    resumeText = re.sub(r'[^\\x00-\\x7f]', r'', resumeText)\n",
    "    resumeText = re.sub('\\s+', ' ', resumeText)\n",
    "    return resumeText\n",
    "\n",
    "resumeDataset['cleaned_resume'] = resumeDataset['Resume'].apply(cleanResume)\n",
    "cleanedSentences = ' '.join(resumeDataset['cleaned_resume'])\n",
    "oneSetofStopWords = set(stopwords.words('english') + ['``', \"''\"])\n",
    "requirementWords = word_tokenize(cleanedSentences)\n",
    "filteredWords = [word for word in requirementWords if word not in oneSetofStopWords and word not in string.punctuation]\n",
    "\n",
    "\n",
    "wordfreqdist = FreqDist(filteredWords)\n",
    "mostcommon = wordfreqdist.most_common(50)\n",
    "print(mostcommon)\n",
    "\n",
    "wc = WordCloud().generate(cleanedSentences)\n",
    "plt.figure(figsize=(10, 10))\n",
    "plt.imshow(wc, interpolation='bilinear')\n",
    "plt.axis(\"off\")\n",
    "plt.show()"
   ]
  },
  {
   "cell_type": "code",
   "execution_count": null,
   "id": "cd8e5b16-c6af-4711-b486-32128fc52587",
   "metadata": {},
   "outputs": [],
   "source": [
    "from sklearn.preprocessing import LabelEncoder\n",
    "\n",
    "var_mod = ['Category']\n",
    "le = LabelEncoder()\n",
    "for i in var_mod:\n",
    "    resumeDataset[i] = le.fit_transform(resumeDataset[i])"
   ]
  },
  {
   "cell_type": "code",
   "execution_count": null,
   "id": "31a00eb7-fa85-405e-8eab-376cd093a957",
   "metadata": {},
   "outputs": [],
   "source": [
    "from sklearn.model_selection import train_test_split\n",
    "from sklearn.feature_extraction.text import TfidfVectorizer\n",
    "from scipy.sparse import hstack\n",
    "\n",
    "requiredText = resumeDataset['cleaned_resume'].values\n",
    "requiredTarget = resumeDataset['Category'].values\n",
    "\n",
    "word_vectorizer = TfidfVectorizer(sublinear_tf=True, stop_words='english', max_features=1500)\n",
    "word_vectorizer.fit(requiredText)\n",
    "WordFeatures = word_vectorizer.transform(requiredText)\n",
    "\n",
    "print(\"Feature completed.............\")\n",
    "\n",
    "x_train, x_test, y_train, y_test = train_test_split(WordFeatures, requiredTarget, random_state=0, test_size=0.2)\n",
    "print(x_train.shape)\n",
    "print(x_test.shape)"
   ]
  },
  {
   "cell_type": "code",
   "execution_count": null,
   "id": "0d0eb2db-1f5c-432f-aee6-7c8ab582642e",
   "metadata": {},
   "outputs": [],
   "source": [
    "clf = OneVsRestClassifier(KNeighborsClassifier())\n",
    "clf.fit(x_train, y_train)\n",
    "prediction = clf.predict(x_test)\n",
    "print('Accuracy of the classifier on training set: {:.2f}'.format(clf.score(x_train, y_train)))\n",
    "print('Accuracy of the classifier ontesting set: {:.2f}'.format(clf.score(x_test, y_test)))\n",
    "\n",
    "print(\"\\n Classification Report for Classifier %s:\\n%s\\n\"%(clf, metrics.classification_report(y_test, prediction)))"
   ]
  }
 ],
 "metadata": {
  "kernelspec": {
   "display_name": "Python 3 (ipykernel)",
   "language": "python",
   "name": "python3"
  },
  "language_info": {
   "codemirror_mode": {
    "name": "ipython",
    "version": 3
   },
   "file_extension": ".py",
   "mimetype": "text/x-python",
   "name": "python",
   "nbconvert_exporter": "python",
   "pygments_lexer": "ipython3",
   "version": "3.11.5"
  }
 },
 "nbformat": 4,
 "nbformat_minor": 5
}
